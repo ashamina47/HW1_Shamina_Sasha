{
 "cells": [
  {
   "cell_type": "markdown",
   "id": "dc3270be",
   "metadata": {},
   "source": [
    "Question 1"
   ]
  },
  {
   "cell_type": "code",
   "execution_count": 1,
   "id": "a076fea7",
   "metadata": {},
   "outputs": [
    {
     "name": "stdout",
     "output_type": "stream",
     "text": [
      "2,4,6,8,4,5,2,1,9,0,4,6,7,4,3,2,1,9,10,3,7,9,6,0,1,3,5,6,7,8,9,10,2,3,6,8,9,10,6,7,4,3\n",
      "2,1,9,10,3,7,9,6,0,1,3,5,6,7,8,9,10,2,3,6,8,9,10,2,4,6,8,4,5,2,1,9,0,4,6,7,4,3,2,1,9,10,3,7,9,6\n",
      "4,5,2,1,9,0,4,6,7,4,3,2,1,9,10,3,7,9,6,0,1,3,5,6,7,8,9,10,2,3,6,8,9,10,6,7,4,3,6,8,4,5,2\n",
      "10,3,7,9,6,0,1,3,5,6,7,8,9,10,2,3,6,8,9,10,2,4,6,8,4,5,2,1,9,0,4,6,7,4\n",
      "2,4,6,8,4,5,2,1,9,0,4,6,7,4,3,2,1,9,10,3,7,9,6\n"
     ]
    },
    {
     "data": {
      "text/plain": [
       "[]"
      ]
     },
     "execution_count": 1,
     "metadata": {},
     "output_type": "execute_result"
    }
   ],
   "source": [
    "f = open(\"numbers.txt\", \"r\")\n",
    "print(f.read())\n",
    "list(f)"
   ]
  },
  {
   "cell_type": "code",
   "execution_count": 2,
   "id": "6ac1d676",
   "metadata": {},
   "outputs": [
    {
     "name": "stdout",
     "output_type": "stream",
     "text": [
      "<bound method DataFrame.to_string of            2  4  6  8  4.1  5  2.1  1  9   0  ...  2.3  3.3  6.4  8.2  9.4  \\\n",
      "2  1 9 10  3  7  9  6    0  1    3  5  6   7  ...  4.0  3.0  2.0  1.0  9.0   \n",
      "4  5 2 1   9  0  4  6    7  4    3  2  1   9  ...  4.0  3.0  6.0  8.0  4.0   \n",
      "10 3 7 9   6  0  1  3    5  6    7  8  9  10  ...  NaN  NaN  NaN  NaN  NaN   \n",
      "2  4 6 8   4  5  2  1    9  0    4  6  7   4  ...  NaN  NaN  NaN  NaN  NaN   \n",
      "\n",
      "           10.2  6.5  7.3  4.4  3.4  \n",
      "2  1 9 10  10.0  3.0  7.0  9.0  6.0  \n",
      "4  5 2 1    5.0  2.0  NaN  NaN  NaN  \n",
      "10 3 7 9    NaN  NaN  NaN  NaN  NaN  \n",
      "2  4 6 8    NaN  NaN  NaN  NaN  NaN  \n",
      "\n",
      "[4 rows x 42 columns]>\n"
     ]
    }
   ],
   "source": [
    "import pandas as pd\n",
    "df = pd.read_csv('numbers.txt')\n",
    "print(df.to_string)"
   ]
  },
  {
   "cell_type": "code",
   "execution_count": 3,
   "id": "ed0cbdc5",
   "metadata": {},
   "outputs": [
    {
     "name": "stdout",
     "output_type": "stream",
     "text": [
      "[['2', '4', '6', '8', '4', '5', '2', '1', '9', '0', '4', '6', '7', '4', '3', '2', '1', '9', '10', '3', '7', '9', '6', '0', '1', '3', '5', '6', '7', '8', '9', '10', '2', '3', '6', '8', '9', '10', '6', '7', '4', '3'], ['2', '1', '9', '10', '3', '7', '9', '6', '0', '1', '3', '5', '6', '7', '8', '9', '10', '2', '3', '6', '8', '9', '10', '2', '4', '6', '8', '4', '5', '2', '1', '9', '0', '4', '6', '7', '4', '3', '2', '1', '9', '10', '3', '7', '9', '6'], ['4', '5', '2', '1', '9', '0', '4', '6', '7', '4', '3', '2', '1', '9', '10', '3', '7', '9', '6', '0', '1', '3', '5', '6', '7', '8', '9', '10', '2', '3', '6', '8', '9', '10', '6', '7', '4', '3', '6', '8', '4', '5', '2'], ['10', '3', '7', '9', '6', '0', '1', '3', '5', '6', '7', '8', '9', '10', '2', '3', '6', '8', '9', '10', '2', '4', '6', '8', '4', '5', '2', '1', '9', '0', '4', '6', '7', '4'], ['2', '4', '6', '8', '4', '5', '2', '1', '9', '0', '4', '6', '7', '4', '3', '2', '1', '9', '10', '3', '7', '9', '6']]\n"
     ]
    }
   ],
   "source": [
    "import pandas as pd\n",
    "import csv\n",
    "with open('numbers.txt', 'r') as df:\n",
    "    csv_reader = csv.reader(df)\n",
    "    numberslist = list(csv_reader)\n",
    "print(numberslist)"
   ]
  },
  {
   "cell_type": "code",
   "execution_count": 4,
   "id": "83c113d6",
   "metadata": {},
   "outputs": [
    {
     "name": "stdout",
     "output_type": "stream",
     "text": [
      "['2', '4', '6', '8', '4', '5', '2', '1', '9', '0', '4', '6', '7', '4', '3', '2', '1', '9', '10', '3', '7', '9', '6', '0', '1', '3', '5', '6', '7', '8', '9', '10', '2', '3', '6', '8', '9', '10', '6', '7', '4', '3', '2', '1', '9', '10', '3', '7', '9', '6', '0', '1', '3', '5', '6', '7', '8', '9', '10', '2', '3', '6', '8', '9', '10', '2', '4', '6', '8', '4', '5', '2', '1', '9', '0', '4', '6', '7', '4', '3', '2', '1', '9', '10', '3', '7', '9', '6', '4', '5', '2', '1', '9', '0', '4', '6', '7', '4', '3', '2', '1', '9', '10', '3', '7', '9', '6', '0', '1', '3', '5', '6', '7', '8', '9', '10', '2', '3', '6', '8', '9', '10', '6', '7', '4', '3', '6', '8', '4', '5', '2', '10', '3', '7', '9', '6', '0', '1', '3', '5', '6', '7', '8', '9', '10', '2', '3', '6', '8', '9', '10', '2', '4', '6', '8', '4', '5', '2', '1', '9', '0', '4', '6', '7', '4', '2', '4', '6', '8', '4', '5', '2', '1', '9', '0', '4', '6', '7', '4', '3', '2', '1', '9', '10', '3', '7', '9', '6']\n"
     ]
    }
   ],
   "source": [
    "numbers = [item for elem in numberslist for item in elem]\n",
    "print(numbers)        "
   ]
  },
  {
   "cell_type": "code",
   "execution_count": 5,
   "id": "d7aed3ee",
   "metadata": {},
   "outputs": [
    {
     "name": "stdout",
     "output_type": "stream",
     "text": [
      "[2, 4, 6, 8, 4, 5, 2, 1, 9, 0, 4, 6, 7, 4, 3, 2, 1, 9, 10, 3, 7, 9, 6, 0, 1, 3, 5, 6, 7, 8, 9, 10, 2, 3, 6, 8, 9, 10, 6, 7, 4, 3, 2, 1, 9, 10, 3, 7, 9, 6, 0, 1, 3, 5, 6, 7, 8, 9, 10, 2, 3, 6, 8, 9, 10, 2, 4, 6, 8, 4, 5, 2, 1, 9, 0, 4, 6, 7, 4, 3, 2, 1, 9, 10, 3, 7, 9, 6, 4, 5, 2, 1, 9, 0, 4, 6, 7, 4, 3, 2, 1, 9, 10, 3, 7, 9, 6, 0, 1, 3, 5, 6, 7, 8, 9, 10, 2, 3, 6, 8, 9, 10, 6, 7, 4, 3, 6, 8, 4, 5, 2, 10, 3, 7, 9, 6, 0, 1, 3, 5, 6, 7, 8, 9, 10, 2, 3, 6, 8, 9, 10, 2, 4, 6, 8, 4, 5, 2, 1, 9, 0, 4, 6, 7, 4, 2, 4, 6, 8, 4, 5, 2, 1, 9, 0, 4, 6, 7, 4, 3, 2, 1, 9, 10, 3, 7, 9, 6]\n"
     ]
    }
   ],
   "source": [
    "numbers = [int(items) for items in numbers]\n",
    "print(numbers)"
   ]
  },
  {
   "cell_type": "code",
   "execution_count": 6,
   "id": "f770ac06",
   "metadata": {},
   "outputs": [
    {
     "name": "stdout",
     "output_type": "stream",
     "text": [
      "2  :  19\n",
      "4  :  22\n",
      "6  :  26\n",
      "8  :  13\n",
      "5  :  10\n",
      "1  :  14\n",
      "9  :  24\n",
      "0  :  9\n",
      "7  :  17\n",
      "3  :  20\n",
      "10  :  14\n"
     ]
    }
   ],
   "source": [
    "d ={}\n",
    "for items in numbers:\n",
    "    if items in d.keys():\n",
    "        d[items] = 1 + d[items]\n",
    "    else:\n",
    "        d[items] = 1\n",
    "for key, value in d.items():\n",
    "    print(key, ' : ', value)"
   ]
  },
  {
   "cell_type": "code",
   "execution_count": 7,
   "id": "3faa83bb",
   "metadata": {},
   "outputs": [
    {
     "data": {
      "text/plain": [
       "<BarContainer object of 11 artists>"
      ]
     },
     "execution_count": 7,
     "metadata": {},
     "output_type": "execute_result"
    },
    {
     "data": {
      "image/png": "[encoded data removed]",
      "text/plain": [
       "<Figure size 432x288 with 1 Axes>"
      ]
     },
     "metadata": {
      "needs_background": "light"
     },
     "output_type": "display_data"
    }
   ],
   "source": [
    "import numpy as np\n",
    "import matplotlib.pyplot as plt\n",
    "plt.bar(d.keys(), d.values(), color='b')"
   ]
  },
  {
   "cell_type": "code",
   "execution_count": 8,
   "id": "11e2f8ee",
   "metadata": {},
   "outputs": [
    {
     "data": {
      "text/plain": [
       "(array([ 9., 14., 19., 20., 22., 10., 26., 17., 13., 38.]),\n",
       " array([ 0.,  1.,  2.,  3.,  4.,  5.,  6.,  7.,  8.,  9., 10.]),\n",
       " <BarContainer object of 10 artists>)"
      ]
     },
     "execution_count": 8,
     "metadata": {},
     "output_type": "execute_result"
    },
    {
     "data": {
      "image/png": "[encoded data removed]",
      "text/plain": [
       "<Figure size 432x288 with 1 Axes>"
      ]
     },
     "metadata": {
      "needs_background": "light"
     },
     "output_type": "display_data"
    }
   ],
   "source": [
    "import numpy as np\n",
    "import matplotlib.pyplot as plt\n",
    "plt.hist(numbers, color='b')"
   ]
  },
  {
   "cell_type": "code",
   "execution_count": 9,
   "id": "6ea2130c",
   "metadata": {},
   "outputs": [
    {
     "name": "stdout",
     "output_type": "stream",
     "text": [
      "{\"2\": 19, \"4\": 22, \"6\": 26, \"8\": 13, \"5\": 10, \"1\": 14, \"9\": 24, \"0\": 9, \"7\": 17, \"3\": 20, \"10\": 14}\n"
     ]
    }
   ],
   "source": [
    "import json\n",
    "y = json.dumps(d)\n",
    "print(y)"
   ]
  }
 ],
 "metadata": {
  "kernelspec": {
   "display_name": "Python 3 (ipykernel)",
   "language": "python",
   "name": "python3"
  },
  "language_info": {
   "codemirror_mode": {
    "name": "ipython",
    "version": 3
   },
   "file_extension": ".py",
   "mimetype": "text/x-python",
   "name": "python",
   "nbconvert_exporter": "python",
   "pygments_lexer": "ipython3",
   "version": "3.9.7"
  }
 },
 "nbformat": 4,
 "nbformat_minor": 5
}
