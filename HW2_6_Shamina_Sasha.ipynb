{
 "cells": [
  {
   "cell_type": "markdown",
   "id": "76c62a34",
   "metadata": {},
   "source": [
    "Question 6"
   ]
  },
  {
   "cell_type": "code",
   "execution_count": 3,
   "id": "dec90b18",
   "metadata": {},
   "outputs": [],
   "source": [
    "marks={'Andy': 88,\n",
    "       'Amy': 66,\n",
    "       'James': 90,\n",
    "       'Jules': 55,\n",
    "       'Arthur': 77\n",
    "      }"
   ]
  },
  {
   "cell_type": "markdown",
   "id": "7eee1b90",
   "metadata": {},
   "source": [
    "Question 6.1 "
   ]
  },
  {
   "cell_type": "code",
   "execution_count": 4,
   "id": "c3648129",
   "metadata": {},
   "outputs": [
    {
     "name": "stdout",
     "output_type": "stream",
     "text": [
      "Andy\n",
      "Amy\n",
      "James\n",
      "Jules\n",
      "Arthur\n"
     ]
    }
   ],
   "source": [
    "for names in marks:\n",
    "    print(names)"
   ]
  },
  {
   "cell_type": "markdown",
   "id": "237357cd",
   "metadata": {},
   "source": [
    "Question 6.2 "
   ]
  },
  {
   "cell_type": "code",
   "execution_count": 5,
   "id": "9a7fc654",
   "metadata": {},
   "outputs": [
    {
     "name": "stdout",
     "output_type": "stream",
     "text": [
      "75.2\n"
     ]
    }
   ],
   "source": [
    "Sum = sum(marks.values())\n",
    "Len = len(marks.values())\n",
    "Mean= Sum/Len\n",
    "print(Mean)"
   ]
  },
  {
   "cell_type": "code",
   "execution_count": 6,
   "id": "03dc9f04",
   "metadata": {},
   "outputs": [
    {
     "name": "stdout",
     "output_type": "stream",
     "text": [
      "90\n",
      "55\n"
     ]
    }
   ],
   "source": [
    "max_value = max(marks.values())\n",
    "min_value = min(marks.values())\n",
    "print(max_value)\n",
    "print(min_value)"
   ]
  },
  {
   "cell_type": "markdown",
   "id": "dcad085a",
   "metadata": {},
   "source": [
    "Question 6.3"
   ]
  },
  {
   "cell_type": "code",
   "execution_count": 48,
   "id": "29ae5702",
   "metadata": {},
   "outputs": [
    {
     "name": "stdout",
     "output_type": "stream",
     "text": [
      "Andy\n",
      "Amy\n"
     ]
    }
   ],
   "source": [
    "for names in marks:\n",
    "    if 'J' in names:\n",
    "        break \n",
    "    print(names)"
   ]
  },
  {
   "cell_type": "markdown",
   "id": "dedc21d7",
   "metadata": {},
   "source": [
    "Question 6.4"
   ]
  },
  {
   "cell_type": "code",
   "execution_count": 50,
   "id": "02928b45",
   "metadata": {},
   "outputs": [
    {
     "name": "stdout",
     "output_type": "stream",
     "text": [
      "Andy\n",
      "Amy\n",
      "Arthur\n"
     ]
    }
   ],
   "source": [
    "for names in marks:\n",
    "    if 'J' in names:\n",
    "        continue\n",
    "    print(names)"
   ]
  }
 ],
 "metadata": {
  "kernelspec": {
   "display_name": "Python 3 (ipykernel)",
   "language": "python",
   "name": "python3"
  },
  "language_info": {
   "codemirror_mode": {
    "name": "ipython",
    "version": 3
   },
   "file_extension": ".py",
   "mimetype": "text/x-python",
   "name": "python",
   "nbconvert_exporter": "python",
   "pygments_lexer": "ipython3",
   "version": "3.9.7"
  }
 },
 "nbformat": 4,
 "nbformat_minor": 5
}
