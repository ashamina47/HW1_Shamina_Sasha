{
 "cells": [
  {
   "cell_type": "markdown",
   "id": "3fbb2956",
   "metadata": {},
   "source": [
    "Question 1"
   ]
  },
  {
   "cell_type": "markdown",
   "id": "b51df743",
   "metadata": {},
   "source": [
    "1.1"
   ]
  },
  {
   "cell_type": "code",
   "execution_count": 1,
   "id": "124e4dc9",
   "metadata": {},
   "outputs": [],
   "source": [
    "marks = {'Andy':88, 'Amy':66, 'James': 90, 'Jules': 55, 'Arthur': 77}"
   ]
  },
  {
   "cell_type": "code",
   "execution_count": 2,
   "id": "e93ca8b6",
   "metadata": {},
   "outputs": [
    {
     "name": "stdout",
     "output_type": "stream",
     "text": [
      "88\n",
      "77\n",
      "cannot find student's name\n",
      "55\n"
     ]
    }
   ],
   "source": [
    "def grades(name):\n",
    "    if name in marks:\n",
    "        print(marks[name])\n",
    "    else:\n",
    "        print(\"cannot find student's name\")\n",
    "grades(name = 'Andy')\n",
    "grades(name = 'Arthur')\n",
    "grades(name = 'Maria')\n",
    "grades(name = 'Jules')"
   ]
  },
  {
   "cell_type": "markdown",
   "id": "68118647",
   "metadata": {},
   "source": [
    "1.2"
   ]
  },
  {
   "cell_type": "code",
   "execution_count": 3,
   "id": "97d47a4e",
   "metadata": {
    "scrolled": true
   },
   "outputs": [
    {
     "data": {
      "text/plain": [
       "75.2"
      ]
     },
     "execution_count": 3,
     "metadata": {},
     "output_type": "execute_result"
    }
   ],
   "source": [
    "def average(Sum = sum(marks.values()), Len = len(marks)):\n",
    "    return Sum/Len\n",
    "average()"
   ]
  },
  {
   "cell_type": "markdown",
   "id": "f6cb142e",
   "metadata": {},
   "source": [
    "Question 2"
   ]
  },
  {
   "cell_type": "code",
   "execution_count": 4,
   "id": "d2fbc660",
   "metadata": {},
   "outputs": [
    {
     "name": "stdout",
     "output_type": "stream",
     "text": [
      "2\n",
      "4\n",
      "4\n",
      "16\n",
      "greater than  8\n"
     ]
    }
   ],
   "source": [
    "def my_function(n, num):\n",
    "    while n<num:\n",
    "        print(n)\n",
    "        n = n**2\n",
    "        print(n)\n",
    "    else: \n",
    "        print(\"greater than \",num)\n",
    "my_function(2,8)"
   ]
  },
  {
   "cell_type": "markdown",
   "id": "e4fc40c4",
   "metadata": {},
   "source": [
    "Question 3"
   ]
  },
  {
   "cell_type": "code",
   "execution_count": 1,
   "id": "d0ae6081",
   "metadata": {},
   "outputs": [
    {
     "data": {
      "text/plain": [
       "36"
      ]
     },
     "execution_count": 1,
     "metadata": {},
     "output_type": "execute_result"
    }
   ],
   "source": [
    "def function(n, num):\n",
    "    Sum = 0\n",
    "    rg = range(n, num+1)\n",
    "    while n < num:\n",
    "        n = n+1\n",
    "        Sum = sum(rg)\n",
    "        return Sum\n",
    "    else:\n",
    "        print(\"stop\")\n",
    "function(1,8)"
   ]
  },
  {
   "cell_type": "markdown",
   "id": "f3da8956",
   "metadata": {},
   "source": [
    "Question 4"
   ]
  },
  {
   "cell_type": "code",
   "execution_count": 2,
   "id": "2e78b904",
   "metadata": {},
   "outputs": [
    {
     "name": "stdout",
     "output_type": "stream",
     "text": [
      "1\n",
      "3\n",
      "6\n",
      "10\n",
      "15\n",
      "21\n",
      "28\n",
      "36\n"
     ]
    }
   ],
   "source": [
    "def function_2(n,num):\n",
    "    Sum = 0\n",
    "    for n in range(n, num+1):\n",
    "        Sum = Sum + n\n",
    "        print(Sum)\n",
    "function_2(1,8)"
   ]
  },
  {
   "cell_type": "markdown",
   "id": "074a0a3f",
   "metadata": {},
   "source": [
    "Question 5"
   ]
  },
  {
   "cell_type": "code",
   "execution_count": 6,
   "id": "321542b1",
   "metadata": {},
   "outputs": [
    {
     "name": "stdout",
     "output_type": "stream",
     "text": [
      "50.5\n",
      "5050\n",
      "29.011491975882016\n"
     ]
    }
   ],
   "source": [
    "from statistics import mean\n",
    "from statistics import stdev\n",
    "def function_3(n, num):\n",
    "    rg = range(n, num+1)\n",
    "    print(mean(rg))\n",
    "    print(sum(rg))\n",
    "    print(stdev(rg))\n",
    "function_3(1,100)"
   ]
  },
  {
   "cell_type": "markdown",
   "id": "ce3e3b0f",
   "metadata": {},
   "source": [
    "Question 6"
   ]
  },
  {
   "cell_type": "markdown",
   "id": "71af4c68",
   "metadata": {},
   "source": [
    "6.1"
   ]
  },
  {
   "cell_type": "code",
   "execution_count": 15,
   "id": "1a0e0efd",
   "metadata": {},
   "outputs": [
    {
     "data": {
      "text/plain": [
       "92"
      ]
     },
     "execution_count": 15,
     "metadata": {},
     "output_type": "execute_result"
    }
   ],
   "source": [
    "def minimal (v1, v2, v3, v4):\n",
    "    min_value = v1\n",
    "    if v1>v2:\n",
    "        min_value = v2\n",
    "        if v2>v3:\n",
    "            min_value=v3\n",
    "            if v3>v4:\n",
    "                min_value = v4\n",
    "                if v4>v1:\n",
    "                    min_value = v1\n",
    "    if v1>v3:\n",
    "        min_value = v3\n",
    "        if v3>v2:\n",
    "            min_value=v2\n",
    "            if v2>v4:\n",
    "                min_value = v4\n",
    "                if v4>v1:\n",
    "                    min_value = v1\n",
    "    if v1>v4:\n",
    "        min_value = v4\n",
    "        if v4>v3:\n",
    "            min_value=v3\n",
    "            if v3>v2:\n",
    "                min_value = v2\n",
    "                if v2>v1:\n",
    "                    min_value = v1\n",
    "    return min_value\n",
    "minimal(739,627,3748,92)"
   ]
  },
  {
   "cell_type": "markdown",
   "id": "15ef15d3",
   "metadata": {},
   "source": [
    "6.2"
   ]
  },
  {
   "cell_type": "code",
   "execution_count": 14,
   "id": "470064a9",
   "metadata": {},
   "outputs": [
    {
     "name": "stdout",
     "output_type": "stream",
     "text": [
      "minimal value is  180\n"
     ]
    }
   ],
   "source": [
    "def print_min(min_value):\n",
    "    print(\"minimal value is \", min_value)\n",
    "def minimal (v1, v2, v3, v4):\n",
    "    min_value = v1\n",
    "    if v1>v2:\n",
    "        min_value = v2\n",
    "        if v2>v3:\n",
    "            min_value=v3\n",
    "            if v3>v4:\n",
    "                min_value = v4\n",
    "                if v4>v1:\n",
    "                    min_value = v1\n",
    "    if v1>v3:\n",
    "        min_value = v3\n",
    "        if v3>v2:\n",
    "            min_value=v2\n",
    "            if v2>v4:\n",
    "                min_value = v4\n",
    "                if v4>v1:\n",
    "                    min_value = v1\n",
    "    if v1>v4:\n",
    "        min_value = v4\n",
    "        if v4>v3:\n",
    "            min_value=v3\n",
    "            if v3>v2:\n",
    "                min_value = v2\n",
    "                if v2>v1:\n",
    "                    min_value = v1\n",
    "    return print_min(min_value)\n",
    "minimal(637,7932,749,180)\n"
   ]
  }
 ],
 "metadata": {
  "kernelspec": {
   "display_name": "Python 3 (ipykernel)",
   "language": "python",
   "name": "python3"
  },
  "language_info": {
   "codemirror_mode": {
    "name": "ipython",
    "version": 3
   },
   "file_extension": ".py",
   "mimetype": "text/x-python",
   "name": "python",
   "nbconvert_exporter": "python",
   "pygments_lexer": "ipython3",
   "version": "3.9.7"
  }
 },
 "nbformat": 4,
 "nbformat_minor": 5
}
