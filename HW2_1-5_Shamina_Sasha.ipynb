{
 "cells": [
  {
   "cell_type": "markdown",
   "id": "5f72e865",
   "metadata": {},
   "source": [
    "Question 1"
   ]
  },
  {
   "cell_type": "code",
   "execution_count": 11,
   "id": "687492f0",
   "metadata": {},
   "outputs": [
    {
     "name": "stdout",
     "output_type": "stream",
     "text": [
      "0\n",
      "1\n",
      "2\n",
      "3\n",
      "4\n",
      "5\n"
     ]
    }
   ],
   "source": [
    "n = 0\n",
    "while n<10:\n",
    "    print(n)\n",
    "    if n==5:\n",
    "        break\n",
    "    n=n+1 \n",
    "    \n",
    "    "
   ]
  },
  {
   "cell_type": "markdown",
   "id": "f2d10302",
   "metadata": {},
   "source": [
    "Question 2"
   ]
  },
  {
   "cell_type": "code",
   "execution_count": 13,
   "id": "b3ba63c0",
   "metadata": {},
   "outputs": [
    {
     "name": "stdout",
     "output_type": "stream",
     "text": [
      "0\n",
      "1\n",
      "2\n",
      "3\n",
      "4\n",
      "5  is not less than 5\n"
     ]
    }
   ],
   "source": [
    "n=0 \n",
    "while n<5:\n",
    "    print(n)\n",
    "    n=n+1\n",
    "else: print(n,\" is not less than 5\")\n"
   ]
  },
  {
   "cell_type": "markdown",
   "id": "956bc02b",
   "metadata": {},
   "source": [
    "Question 3"
   ]
  },
  {
   "cell_type": "code",
   "execution_count": 25,
   "id": "2d0003f3",
   "metadata": {},
   "outputs": [
    {
     "name": "stdout",
     "output_type": "stream",
     "text": [
      "I like  banana\n",
      "I like  peach\n",
      "I like  mango\n",
      "apple  is really a fruit?\n"
     ]
    }
   ],
   "source": [
    "fruit=[\"banana\", \"peach\", \"mango\", \"apple\"]\n",
    "for fruit in fruit:\n",
    "    if fruit==\"apple\":\n",
    "        break\n",
    "    print(\"I like \", fruit)\n",
    "if fruit==\"apple\":\n",
    "    print(fruit, \" is really a fruit?\")"
   ]
  },
  {
   "cell_type": "markdown",
   "id": "ec5207df",
   "metadata": {},
   "source": [
    "Question 4"
   ]
  },
  {
   "cell_type": "code",
   "execution_count": 30,
   "id": "ee44d2a1",
   "metadata": {},
   "outputs": [
    {
     "name": "stdout",
     "output_type": "stream",
     "text": [
      "465\n"
     ]
    }
   ],
   "source": [
    "n=1 \n",
    "sum = 0\n",
    "while n<=30:\n",
    "    sum = sum + n\n",
    "    n = n + 1\n",
    "print(sum)\n",
    "   "
   ]
  },
  {
   "cell_type": "markdown",
   "id": "84ccac7f",
   "metadata": {},
   "source": [
    "Question 5"
   ]
  },
  {
   "cell_type": "code",
   "execution_count": 33,
   "id": "b6ecc752",
   "metadata": {},
   "outputs": [
    {
     "name": "stdout",
     "output_type": "stream",
     "text": [
      "B\n"
     ]
    }
   ],
   "source": [
    "score = 83\n",
    "if score >= 90:\n",
    "  grade = \"A\"\n",
    "elif score >= 80:\n",
    "  grade = \"B\"\n",
    "elif score >= 70:\n",
    "  grade = \"C\"\n",
    "elif score >= 60:\n",
    "  grade = \"D\"\n",
    "else:\n",
    "  grade = \"F\"\n",
    "print(grade)"
   ]
  }
 ],
 "metadata": {
  "kernelspec": {
   "display_name": "Python 3 (ipykernel)",
   "language": "python",
   "name": "python3"
  },
  "language_info": {
   "codemirror_mode": {
    "name": "ipython",
    "version": 3
   },
   "file_extension": ".py",
   "mimetype": "text/x-python",
   "name": "python",
   "nbconvert_exporter": "python",
   "pygments_lexer": "ipython3",
   "version": "3.9.7"
  }
 },
 "nbformat": 4,
 "nbformat_minor": 5
}
